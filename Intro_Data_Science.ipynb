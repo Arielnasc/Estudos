{
  "nbformat": 4,
  "nbformat_minor": 0,
  "metadata": {
    "colab": {
      "name": "Intro Data Science.ipynb",
      "provenance": [],
      "authorship_tag": "ABX9TyO5wmAPt7fqSerMFYDjZbs4",
      "include_colab_link": true
    },
    "kernelspec": {
      "name": "python3",
      "display_name": "Python 3"
    },
    "language_info": {
      "name": "python"
    }
  },
  "cells": [
    {
      "cell_type": "markdown",
      "metadata": {
        "id": "view-in-github",
        "colab_type": "text"
      },
      "source": [
        "<a href=\"https://colab.research.google.com/github/Arielnasc/Estudos/blob/main/Intro_Data_Science.ipynb\" target=\"_parent\"><img src=\"https://colab.research.google.com/assets/colab-badge.svg\" alt=\"Open In Colab\"/></a>"
      ]
    },
    {
      "cell_type": "markdown",
      "metadata": {
        "id": "pEpVFCDrS4pc"
      },
      "source": [
        "# **Lógica de Programação**"
      ]
    },
    {
      "cell_type": "code",
      "metadata": {
        "colab": {
          "base_uri": "https://localhost:8080/"
        },
        "id": "V1CE8RfHTRDz",
        "outputId": "65d8181b-038d-4625-d541-8da1a6fb2147"
      },
      "source": [
        "1+1"
      ],
      "execution_count": null,
      "outputs": [
        {
          "output_type": "execute_result",
          "data": {
            "text/plain": [
              "2"
            ]
          },
          "metadata": {
            "tags": []
          },
          "execution_count": 18
        }
      ]
    },
    {
      "cell_type": "code",
      "metadata": {
        "id": "MRkMEknzTU63"
      },
      "source": [
        "Nome = \"Ariel\""
      ],
      "execution_count": null,
      "outputs": []
    },
    {
      "cell_type": "code",
      "metadata": {
        "colab": {
          "base_uri": "https://localhost:8080/",
          "height": 35
        },
        "id": "5hUFqosqTa3V",
        "outputId": "56c73ea6-7a1b-424d-e0e0-bbfc99991752"
      },
      "source": [
        "Nome"
      ],
      "execution_count": null,
      "outputs": [
        {
          "output_type": "execute_result",
          "data": {
            "application/vnd.google.colaboratory.intrinsic+json": {
              "type": "string"
            },
            "text/plain": [
              "'Ariel'"
            ]
          },
          "metadata": {
            "tags": []
          },
          "execution_count": 20
        }
      ]
    },
    {
      "cell_type": "code",
      "metadata": {
        "id": "Ytie6KZyTn0k"
      },
      "source": [
        "Idade = 30"
      ],
      "execution_count": null,
      "outputs": []
    },
    {
      "cell_type": "code",
      "metadata": {
        "colab": {
          "base_uri": "https://localhost:8080/"
        },
        "id": "m8LGrbErT1nd",
        "outputId": "c59d8d5a-066e-4581-f49d-651b11eb69a9"
      },
      "source": [
        "Idade"
      ],
      "execution_count": null,
      "outputs": [
        {
          "output_type": "execute_result",
          "data": {
            "text/plain": [
              "30"
            ]
          },
          "metadata": {
            "tags": []
          },
          "execution_count": 22
        }
      ]
    },
    {
      "cell_type": "code",
      "metadata": {
        "colab": {
          "base_uri": "https://localhost:8080/"
        },
        "id": "9tKunqQtT2Zr",
        "outputId": "47aad7a4-a0c8-462c-e215-a7d1668d2f54"
      },
      "source": [
        "print(f'O nome é {Nome} e sua idade é {Idade} anos')"
      ],
      "execution_count": null,
      "outputs": [
        {
          "output_type": "stream",
          "text": [
            "O nome é Ariel e sua idade é 30 anos\n"
          ],
          "name": "stdout"
        }
      ]
    },
    {
      "cell_type": "code",
      "metadata": {
        "id": "xLJpDiDQVfxk"
      },
      "source": [
        ""
      ],
      "execution_count": null,
      "outputs": []
    },
    {
      "cell_type": "markdown",
      "metadata": {
        "id": "_gMKcZirVpLL"
      },
      "source": [
        "# Primeira Função"
      ]
    },
    {
      "cell_type": "code",
      "metadata": {
        "id": "eKaVxu_QVu2q"
      },
      "source": [
        "def saudacao():\n",
        "  nome = input('Qual o seu nome? ')\n",
        "  print(f'Olá {nome}')"
      ],
      "execution_count": null,
      "outputs": []
    },
    {
      "cell_type": "code",
      "metadata": {
        "colab": {
          "base_uri": "https://localhost:8080/"
        },
        "id": "GD9IzZjlWe5w",
        "outputId": "0866d3fa-2082-4ca4-f0bd-a59fdf1e967f"
      },
      "source": [
        "saudacao()"
      ],
      "execution_count": null,
      "outputs": [
        {
          "output_type": "stream",
          "text": [
            "Qual o seu nome? Ariel\n",
            "Olá Ariel\n"
          ],
          "name": "stdout"
        }
      ]
    },
    {
      "cell_type": "markdown",
      "metadata": {
        "id": "htMdtvDhYsSC"
      },
      "source": [
        "# Parametro"
      ]
    },
    {
      "cell_type": "code",
      "metadata": {
        "id": "V5mbTdApWr29"
      },
      "source": [
        "nome = 'Luiza'"
      ],
      "execution_count": null,
      "outputs": []
    },
    {
      "cell_type": "code",
      "metadata": {
        "id": "8E8pXrsdYN-N"
      },
      "source": [
        "def saudacao_com_parametro(nome_da_pessoa) :\n",
        "  print(f'Olá {nome_da_pessoa}')"
      ],
      "execution_count": null,
      "outputs": []
    },
    {
      "cell_type": "code",
      "metadata": {
        "colab": {
          "base_uri": "https://localhost:8080/"
        },
        "id": "zH8kxNS5YeX_",
        "outputId": "b85efec4-37a6-48c0-fec0-fa42ac2ca2aa"
      },
      "source": [
        "saudacao_com_parametro(nome)"
      ],
      "execution_count": null,
      "outputs": [
        {
          "output_type": "stream",
          "text": [
            "Olá Luiza\n"
          ],
          "name": "stdout"
        }
      ]
    },
    {
      "cell_type": "markdown",
      "metadata": {
        "id": "xtjPietGY9dO"
      },
      "source": [
        "# Condicional"
      ]
    },
    {
      "cell_type": "code",
      "metadata": {
        "id": "HcuKzRIJZMzB"
      },
      "source": [
        "idade = 20\n",
        "\n",
        "def verifica_se_pode_dirigir(idade): \n",
        "  if idade >= 18:\n",
        "    print('Tem permissão para dirigir')\n",
        "  else:\n",
        "    print('Não tem permissão para dirigir')"
      ],
      "execution_count": null,
      "outputs": []
    },
    {
      "cell_type": "code",
      "metadata": {
        "id": "vsrTpFfiZwNe"
      },
      "source": [
        "idade = 17\n",
        "\n",
        "def verifica_se_pode_dirigir(idade):\n",
        "  if idade >= 18:\n",
        "    print('Tem permissão para dirigir')\n",
        "  else:\n",
        "    print('Não tem permissão para dirigir')"
      ],
      "execution_count": null,
      "outputs": []
    },
    {
      "cell_type": "code",
      "metadata": {
        "colab": {
          "base_uri": "https://localhost:8080/"
        },
        "id": "xdbqVgtWbJ4W",
        "outputId": "f3b003c7-a14b-45af-cc49-80b89495d6c4"
      },
      "source": [
        "verifica_se_pode_dirigir(idade)"
      ],
      "execution_count": null,
      "outputs": [
        {
          "output_type": "stream",
          "text": [
            "Não tem permissão para dirigir\n"
          ],
          "name": "stdout"
        }
      ]
    },
    {
      "cell_type": "markdown",
      "metadata": {
        "id": "ipOXRBvLcha0"
      },
      "source": [
        "# Colocando idade como input e corrigindo de string para inteiro"
      ]
    },
    {
      "cell_type": "code",
      "metadata": {
        "id": "MYLNQj_UbP6G"
      },
      "source": [
        "def verifica_se_pode_dirigir_sem_parametros():\n",
        "  idade = input('Qual a sua idade? ')\n",
        "  idade = int(idade)\n",
        "  if idade >= 18:\n",
        "    print('Tem permissão para dirigir')\n",
        "  else:\n",
        "    print('Não tem permissão para dirigir')\n",
        "\n",
        "verifica_se_pode_dirigir_sem_parametros()"
      ],
      "execution_count": null,
      "outputs": []
    },
    {
      "cell_type": "code",
      "metadata": {
        "id": "AYLmVW2rdzq_"
      },
      "source": [
        ""
      ],
      "execution_count": null,
      "outputs": []
    },
    {
      "cell_type": "markdown",
      "metadata": {
        "id": "68a3lNxVeRhz"
      },
      "source": [
        "# Exercicio 1 - Velocidade"
      ]
    },
    {
      "cell_type": "code",
      "metadata": {
        "id": "26UjSNd0ebR7",
        "colab": {
          "base_uri": "https://localhost:8080/"
        },
        "outputId": "9bcfdb93-6ae3-4d5a-d1c3-7c0d57f8173a"
      },
      "source": [
        "espaco = 100\n",
        "tempo = 20\n",
        "def velocidade():\n",
        "  v = espaco/tempo\n",
        "  print(f'velocidade: {v} m/s')\n",
        "\n",
        "velocidade()"
      ],
      "execution_count": null,
      "outputs": [
        {
          "output_type": "stream",
          "text": [
            "velocidade: 5.0 m/s\n"
          ],
          "name": "stdout"
        }
      ]
    },
    {
      "cell_type": "code",
      "metadata": {
        "id": "6O386mKxg81j"
      },
      "source": [
        "def velocidade(espaco, tempo):\n",
        " v = espaco / tempo\n",
        " print(f'Velocidade: {v} m/s')\n",
        "\n",
        "velocidade(100, 20)"
      ],
      "execution_count": null,
      "outputs": []
    },
    {
      "cell_type": "code",
      "metadata": {
        "id": "HmkaJxZnheBK",
        "colab": {
          "base_uri": "https://localhost:8080/"
        },
        "outputId": "4d2c5e41-c339-4d02-ea21-2aa61246db63"
      },
      "source": [
        "espaco = ()\n",
        "tempo = ()\n",
        "def velocidade(espaco, tempo):\n",
        "  espaco = input('Qual espaço em metros? ')\n",
        "  espaco = float(espaco)\n",
        "  tempo = input('Qual tempo em segundos? ')\n",
        "  tempo = float(tempo)\n",
        "  v = espaco/tempo\n",
        "  v2 = v*3.6\n",
        "  print(f'velocidade: {v} m/s')\n",
        "  print(f'velocidade: {v2} km/h')\n",
        "\n",
        "velocidade(espaco, tempo)"
      ],
      "execution_count": 12,
      "outputs": [
        {
          "output_type": "stream",
          "text": [
            "Qual espaço em metros? 45\n",
            "Qual tempo em segundos? 56\n",
            "velocidade: 0.8035714285714286 m/s\n",
            "velocidade: 2.8928571428571432 km/h\n"
          ],
          "name": "stdout"
        }
      ]
    },
    {
      "cell_type": "markdown",
      "metadata": {
        "id": "sfFg6wBXdxV-"
      },
      "source": [
        "# Criando Lista"
      ]
    },
    {
      "cell_type": "code",
      "metadata": {
        "id": "t0P3csuWd5qL",
        "colab": {
          "base_uri": "https://localhost:8080/"
        },
        "outputId": "3963c0b2-f2a5-4816-8406-cb4c0c3f966a"
      },
      "source": [
        "idade = 15.0\n",
        "type(idade)"
      ],
      "execution_count": null,
      "outputs": [
        {
          "output_type": "execute_result",
          "data": {
            "text/plain": [
              "float"
            ]
          },
          "metadata": {
            "tags": []
          },
          "execution_count": 12
        }
      ]
    },
    {
      "cell_type": "code",
      "metadata": {
        "id": "q4vTUG00eVhf"
      },
      "source": [
        "idades = [15,16,18,20,22,32,55,70]\n",
        "#         0, 1  2  3  4  5  6  7 (a contagem de seleção de uma lista inicia no 0)"
      ],
      "execution_count": null,
      "outputs": []
    },
    {
      "cell_type": "code",
      "metadata": {
        "colab": {
          "base_uri": "https://localhost:8080/"
        },
        "id": "e4u_Msb-Pn9F",
        "outputId": "4b4e55d2-1bbf-44a9-9617-c077b203c7b2"
      },
      "source": [
        "idades[1:3]"
      ],
      "execution_count": null,
      "outputs": [
        {
          "output_type": "execute_result",
          "data": {
            "text/plain": [
              "[16, 18]"
            ]
          },
          "metadata": {
            "tags": []
          },
          "execution_count": 16
        }
      ]
    },
    {
      "cell_type": "code",
      "metadata": {
        "colab": {
          "base_uri": "https://localhost:8080/"
        },
        "id": "uVQZrN02P0vy",
        "outputId": "9163c7a8-83c6-46d6-f71c-d5a7dc0615f8"
      },
      "source": [
        "idades[2:]"
      ],
      "execution_count": null,
      "outputs": [
        {
          "output_type": "execute_result",
          "data": {
            "text/plain": [
              "[18, 20, 22, 32, 55, 70]"
            ]
          },
          "metadata": {
            "tags": []
          },
          "execution_count": 19
        }
      ]
    },
    {
      "cell_type": "code",
      "metadata": {
        "id": "B-8caxU5QX8C"
      },
      "source": [
        ""
      ],
      "execution_count": null,
      "outputs": []
    },
    {
      "cell_type": "code",
      "metadata": {
        "id": "TUIofrFiQcCd"
      },
      "source": [
        ""
      ],
      "execution_count": null,
      "outputs": []
    },
    {
      "cell_type": "markdown",
      "metadata": {
        "id": "dDNMv_a4QY_o"
      },
      "source": [
        "# Laços e Loops"
      ]
    },
    {
      "cell_type": "markdown",
      "metadata": {
        "id": "_sZlw4JsRwHE"
      },
      "source": [
        "## Utilizando o \"for\" fora da função"
      ]
    },
    {
      "cell_type": "code",
      "metadata": {
        "colab": {
          "base_uri": "https://localhost:8080/"
        },
        "id": "s7r-ZkwbQhwl",
        "outputId": "1e122791-8dd6-454c-d37a-f728fb7231b7"
      },
      "source": [
        "def verifica_se_pode_dirigir(idade): \n",
        "  if idade >= 18:\n",
        "    print(f'{idade} anos de idade, TEM permissão para dirigir')\n",
        "  else:\n",
        "    print(f'{idade} anos de idade, NÃO TEM permissão para dirigir')\n",
        "for idade in idades:\n",
        "  verifica_se_pode_dirigir(idade)"
      ],
      "execution_count": null,
      "outputs": [
        {
          "output_type": "stream",
          "text": [
            "15 anos de idade, NÃO TEM permissão para dirigir\n",
            "16 anos de idade, NÃO TEM permissão para dirigir\n",
            "18 anos de idade, TEM permissão para dirigir\n",
            "20 anos de idade, TEM permissão para dirigir\n",
            "22 anos de idade, TEM permissão para dirigir\n",
            "32 anos de idade, TEM permissão para dirigir\n",
            "55 anos de idade, TEM permissão para dirigir\n",
            "70 anos de idade, TEM permissão para dirigir\n"
          ],
          "name": "stdout"
        }
      ]
    },
    {
      "cell_type": "markdown",
      "metadata": {
        "id": "QkyavSCoR8o0"
      },
      "source": [
        "## Utilizando o \"for\" dentro da função"
      ]
    },
    {
      "cell_type": "code",
      "metadata": {
        "colab": {
          "base_uri": "https://localhost:8080/"
        },
        "id": "E22gNAxiSCjp",
        "outputId": "c2d6d2cd-0d71-488e-b0a4-3f2ee038f753"
      },
      "source": [
        "def verifica_se_pode_dirigir(idade): \n",
        "  for idade in idades:\n",
        "    if idade >= 18:\n",
        "      print(f'{idade} anos de idade, TEM permissão para dirigir')\n",
        "    else:\n",
        "      print(f'{idade} anos de idade, NÃO TEM permissão para dirigir')\n",
        "\n",
        "verifica_se_pode_dirigir (idades)\n",
        "    "
      ],
      "execution_count": null,
      "outputs": [
        {
          "output_type": "stream",
          "text": [
            "15 anos de idade, NÃO TEM permissão para dirigir\n",
            "16 anos de idade, NÃO TEM permissão para dirigir\n",
            "18 anos de idade, TEM permissão para dirigir\n",
            "20 anos de idade, TEM permissão para dirigir\n",
            "22 anos de idade, TEM permissão para dirigir\n",
            "32 anos de idade, TEM permissão para dirigir\n",
            "55 anos de idade, TEM permissão para dirigir\n",
            "70 anos de idade, TEM permissão para dirigir\n"
          ],
          "name": "stdout"
        }
      ]
    },
    {
      "cell_type": "code",
      "metadata": {
        "id": "JDmaM5zIWSxU"
      },
      "source": [
        "frase_alura = [' Digitais', 'e ', 'Negócios ', 'de ', 'Tecnologia ', 'Cursos ']"
      ],
      "execution_count": null,
      "outputs": []
    },
    {
      "cell_type": "code",
      "metadata": {
        "id": "J0wBYYYmWUrA"
      },
      "source": [
        "frase_alura[5,3,4,1,2,0]"
      ],
      "execution_count": null,
      "outputs": []
    },
    {
      "cell_type": "code",
      "metadata": {
        "id": "1266XReSXrWf"
      },
      "source": [
        ""
      ],
      "execution_count": null,
      "outputs": []
    },
    {
      "cell_type": "markdown",
      "metadata": {
        "id": "45f0HJglaABM"
      },
      "source": [
        "# Tipos de uma lista"
      ]
    },
    {
      "cell_type": "code",
      "metadata": {
        "colab": {
          "base_uri": "https://localhost:8080/"
        },
        "id": "KmGI9jRqaDux",
        "outputId": "c35363a4-e3b9-4a02-bc35-4ddf83a790d8"
      },
      "source": [
        "  lista = ['Ariel', 28, True, '18']\n",
        "  \n",
        "  for elemento in lista:\n",
        "    print(f'O elemento {elemento} é do tipo: ', type(elemento))"
      ],
      "execution_count": null,
      "outputs": [
        {
          "output_type": "stream",
          "text": [
            "O elemento Ariel é do tipo:  <class 'str'>\n",
            "O elemento 28 é do tipo:  <class 'int'>\n",
            "O elemento True é do tipo:  <class 'bool'>\n",
            "O elemento 18 é do tipo:  <class 'str'>\n"
          ],
          "name": "stdout"
        }
      ]
    },
    {
      "cell_type": "code",
      "metadata": {
        "id": "BQ5SxV0BbZTG"
      },
      "source": [
        ""
      ],
      "execution_count": null,
      "outputs": []
    },
    {
      "cell_type": "markdown",
      "metadata": {
        "id": "UnRxTZQ4brqG"
      },
      "source": [
        "# Import"
      ]
    },
    {
      "cell_type": "markdown",
      "metadata": {
        "id": "yBq1rccmdFqL"
      },
      "source": [
        "**random** faz com que os numeros sejam criados aleatoriamente; \n",
        "**seed** faz com que esses numeros criados sejam os mesmos sempre que rodar o código"
      ]
    },
    {
      "cell_type": "code",
      "metadata": {
        "id": "Oil1GeO_bx9Q"
      },
      "source": [
        "from random import randrange, seed"
      ],
      "execution_count": null,
      "outputs": []
    },
    {
      "cell_type": "code",
      "metadata": {
        "id": "BNXgBAOHd9KC"
      },
      "source": [
        "seed(15)"
      ],
      "execution_count": null,
      "outputs": []
    },
    {
      "cell_type": "code",
      "metadata": {
        "colab": {
          "base_uri": "https://localhost:8080/"
        },
        "id": "450Qs62DcANy",
        "outputId": "219c91a2-1ca2-4163-9029-76cca298c14e"
      },
      "source": [
        "randrange(0,11)"
      ],
      "execution_count": null,
      "outputs": [
        {
          "output_type": "execute_result",
          "data": {
            "text/plain": [
              "3"
            ]
          },
          "metadata": {
            "tags": []
          },
          "execution_count": 30
        }
      ]
    },
    {
      "cell_type": "code",
      "metadata": {
        "colab": {
          "base_uri": "https://localhost:8080/"
        },
        "id": "Uwh_M9_McKL3",
        "outputId": "4305b6f3-ad83-4bce-c517-82ff535f801c"
      },
      "source": [
        "notas_matematica = []\n",
        "\n",
        "for notas in range(8):\n",
        "  notas_matematica.append(randrange(0,11))\n",
        "\n",
        "notas_matematica"
      ],
      "execution_count": null,
      "outputs": [
        {
          "output_type": "execute_result",
          "data": {
            "text/plain": [
              "[4, 8, 6, 3, 9, 7, 6, 7]"
            ]
          },
          "metadata": {
            "tags": []
          },
          "execution_count": 34
        }
      ]
    },
    {
      "cell_type": "code",
      "metadata": {
        "id": "zchyk88wc_q3"
      },
      "source": [
        ""
      ],
      "execution_count": null,
      "outputs": []
    },
    {
      "cell_type": "markdown",
      "metadata": {
        "id": "lPmYYxXxb_-q"
      },
      "source": [
        "# Criando um gráfico"
      ]
    },
    {
      "cell_type": "code",
      "metadata": {
        "id": "GQpD8OUacDqd"
      },
      "source": [
        "import matplotlib.pyplot as plt"
      ],
      "execution_count": null,
      "outputs": []
    },
    {
      "cell_type": "code",
      "metadata": {
        "colab": {
          "base_uri": "https://localhost:8080/"
        },
        "id": "iHjHEj4lCW_G",
        "outputId": "734107e3-9da4-4d99-bd7f-8c29d0cbb6ee"
      },
      "source": [
        " x = list(range(1,9))\n",
        " x"
      ],
      "execution_count": null,
      "outputs": [
        {
          "output_type": "execute_result",
          "data": {
            "text/plain": [
              "[1, 2, 3, 4, 5, 6, 7, 8]"
            ]
          },
          "metadata": {
            "tags": []
          },
          "execution_count": 36
        }
      ]
    },
    {
      "cell_type": "code",
      "metadata": {
        "colab": {
          "base_uri": "https://localhost:8080/"
        },
        "id": "xWivRjCTCaa6",
        "outputId": "0a0f0f51-76ae-4d1c-b037-8a9f0898798a"
      },
      "source": [
        "y = notas_matematica\n",
        "y"
      ],
      "execution_count": null,
      "outputs": [
        {
          "output_type": "execute_result",
          "data": {
            "text/plain": [
              "[4, 8, 6, 3, 9, 7, 6, 7]"
            ]
          },
          "metadata": {
            "tags": []
          },
          "execution_count": 37
        }
      ]
    },
    {
      "cell_type": "code",
      "metadata": {
        "colab": {
          "base_uri": "https://localhost:8080/",
          "height": 295
        },
        "id": "DN4KryaVCjE0",
        "outputId": "2a71e234-d7c9-4b1b-8d6f-e034e04466d4"
      },
      "source": [
        "plt.plot(x,y, marker='o')\n",
        "plt.title('Notas de Matemática')\n",
        "plt.xlabel('Provas')\n",
        "plt.ylabel('Notas')\n",
        "\n",
        "plt.show()"
      ],
      "execution_count": null,
      "outputs": [
        {
          "output_type": "display_data",
          "data": {
            "image/png": "[encoded data removed]",
            "text/plain": [
              "<Figure size 432x288 with 1 Axes>"
            ]
          },
          "metadata": {
            "tags": [],
            "needs_background": "light"
          }
        }
      ]
    },
    {
      "cell_type": "code",
      "metadata": {
        "id": "CrTLlOZ_C7kB"
      },
      "source": [
        ""
      ],
      "execution_count": null,
      "outputs": []
    },
    {
      "cell_type": "markdown",
      "metadata": {
        "id": "7jlQcLm1GAee"
      },
      "source": [
        "# Exercicio Notas"
      ]
    },
    {
      "cell_type": "code",
      "metadata": {
        "id": "wDJertKrGHtN",
        "colab": {
          "base_uri": "https://localhost:8080/"
        },
        "outputId": "8b080f5d-3c1a-42a9-989a-999caeb262e3"
      },
      "source": [
        "import matplotlib.pyplot as plt\n",
        "\n",
        "notas_matematica = ['Matemática',8,7,6,6,7,7,8,10]\n",
        "notas_portugues = ['Português',9,9,9,8,5,6,8,5]\n",
        "notas_geografia = ['Geografia',10,10,6,7,7,7,8,7]\n",
        "\n",
        "notas = [notas_matematica, notas_portugues, notas_geografia]\n",
        "\n",
        "notas"
      ],
      "execution_count": 3,
      "outputs": [
        {
          "output_type": "execute_result",
          "data": {
            "text/plain": [
              "[['Matemática', 8, 7, 6, 6, 7, 7, 8, 10],\n",
              " ['Português', 9, 9, 9, 8, 5, 6, 8, 5],\n",
              " ['Geografia', 10, 10, 6, 7, 7, 7, 8, 7]]"
            ]
          },
          "metadata": {
            "tags": []
          },
          "execution_count": 3
        }
      ]
    }
  ]
}